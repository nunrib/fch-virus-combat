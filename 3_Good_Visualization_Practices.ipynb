{
  "nbformat": 4,
  "nbformat_minor": 0,
  "metadata": {
    "colab": {
      "name": "3_Good_Visualization_Practices.ipynb",
      "provenance": [],
      "include_colab_link": true
    },
    "kernelspec": {
      "name": "python3",
      "display_name": "Python 3"
    }
  },
  "cells": [
    {
      "cell_type": "markdown",
      "metadata": {
        "id": "view-in-github",
        "colab_type": "text"
      },
      "source": [
        "<a href=\"https://colab.research.google.com/github/nunrib/fch-virus-combat/blob/master/3_Good_Visualization_Practices.ipynb\" target=\"_parent\"><img src=\"https://colab.research.google.com/assets/colab-badge.svg\" alt=\"Open In Colab\"/></a>"
      ]
    },
    {
      "cell_type": "markdown",
      "metadata": {
        "id": "4WC2CHl2jaKo",
        "colab_type": "text"
      },
      "source": [
        "# 3. **GOOD VISUALIZATION PRACTICES**\n",
        "\n",
        "\n"
      ]
    },
    {
      "cell_type": "markdown",
      "metadata": {
        "id": "SIYmb0b6O7RZ",
        "colab_type": "text"
      },
      "source": [
        "## **Good visualization practices**\n",
        "\n",
        "### 1. Speak to a specific audience\n",
        "### 2. Choose the right visual\n",
        "### 3. Provide context\n",
        "### 4. Keep things simple and digestible\n",
        "### 5. Design for user engagement"
      ]
    },
    {
      "cell_type": "markdown",
      "metadata": {
        "id": "r0Z4ccZRljl7",
        "colab_type": "text"
      },
      "source": [
        "## **Practices when visualizing COVID-19 data**"
      ]
    },
    {
      "cell_type": "markdown",
      "metadata": {
        "id": "UaphEYj2lxtr",
        "colab_type": "text"
      },
      "source": [
        "---\n",
        "## References\n",
        "\n",
        "\n",
        "\n",
        "*   [Ten Considerations Before You Create Another Chart About COVID-19](https://medium.com/nightingale/ten-considerations-before-you-create-another-chart-about-covid-19-27d3bd691be8)\n",
        "*   [Mapping coronavirus, responsibly](https://www.esri.com/arcgis-blog/products/product/mapping/mapping-coronavirus-responsibly/)\n",
        "\n",
        "* [Coronavirus Case Counts Are Meaningless*](https://fivethirtyeight.com/features/coronavirus-case-counts-are-meaningless/)\n",
        "\n",
        "* [Why I’m not making COVID19 visualizations, and why you (probably) shouldn’t either](https://www.williamrchase.com/post/why-i-m-not-making-covid19-visualizations-and-why-you-probably-shouldn-t-either/)\n",
        "\n",
        "---\n",
        "\n",
        "\n",
        "\n",
        "---\n",
        "\n",
        "\n",
        "\n",
        "### 1.   Understand the **context of the data**\n",
        "### 2.   When using maps, pay attention:\n",
        "\n",
        "> *   For maps that do not show the population density: **use rates instead of totals**.\n",
        "\n",
        "\n",
        "### 3. **Do not use red** color: it can easily create panic in the eyes of the reader\n",
        "\n",
        "### 4. When doing calculations (e.g., fatality rate) take into account **epidemiology principles**.\n",
        "\n",
        "### 5. When comparing states/countries/etc. take into account implications such as population size, political environments, public health system, etc.\n",
        "\n",
        "### 6. Create **informative** visualizations - mention what is not represented\n",
        "\n",
        "### 7. Do not forget to include information about the **recovered cases**\n",
        "\n",
        "### 8. **Reference terms correctly**\n",
        "\n",
        "### 9. In the case of COVID-19 data: “the more you know, the more you realize you don’t know” (a.k.a. the Dunning-Kruger effect)\n",
        "\n",
        "## Remember: \n",
        "> * ## **The charts report our `best estimate` based on `imperfect data`**\n",
        "\n",
        "\n"
      ]
    },
    {
      "cell_type": "markdown",
      "metadata": {
        "id": "gT3mhSA6EKex",
        "colab_type": "text"
      },
      "source": [
        "![alt text](https://projects.rcc.uchicago.edu/rcc/covid19-data/covid_uncertainty.png)\n",
        "\n",
        "Visualization of the complications with modeling COVID19 deaths, by Jasmine Mithani and fivethirtyeight"
      ]
    }
  ]
}